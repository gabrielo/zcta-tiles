{
 "cells": [
  {
   "cell_type": "code",
   "execution_count": 3,
   "metadata": {},
   "outputs": [
    {
     "name": "stdout",
     "output_type": "stream",
     "text": [
      "Archive:  data/tl_2017_us_zcta510.zip\n",
      " extracting: data/tl_2017_us_zcta510/tl_2017_us_zcta510.cpg  \n",
      "  inflating: data/tl_2017_us_zcta510/tl_2017_us_zcta510.dbf  \n",
      "  inflating: data/tl_2017_us_zcta510/tl_2017_us_zcta510.prj  \n",
      "  inflating: data/tl_2017_us_zcta510/tl_2017_us_zcta510.shp  \n",
      "  inflating: data/tl_2017_us_zcta510/tl_2017_us_zcta510.shp.ea.iso.xml  \n",
      "  inflating: data/tl_2017_us_zcta510/tl_2017_us_zcta510.shp.iso.xml  \n",
      "  inflating: data/tl_2017_us_zcta510/tl_2017_us_zcta510.shp.xml  \n",
      "  inflating: data/tl_2017_us_zcta510/tl_2017_us_zcta510.shx  \n"
     ]
    }
   ],
   "source": [
    "cmd = \"unzip data/tl_2017_us_zcta510.zip -d data/tl_2017_us_zcta510\"\n",
    "!$cmd"
   ]
  },
  {
   "cell_type": "code",
   "execution_count": 7,
   "metadata": {},
   "outputs": [],
   "source": [
    "cmd = \"ogr2ogr -f GeoJSON -t_srs crs:84 data/tl_2017_us_zcta510.geojson data/tl_2017_us_zcta510/tl_2017_us_zcta510.shp\"\n",
    "!$cmd"
   ]
  },
  {
   "cell_type": "code",
   "execution_count": null,
   "metadata": {
    "collapsed": true
   },
   "outputs": [],
   "source": []
  }
 ],
 "metadata": {
  "kernelspec": {
   "display_name": "Python 2",
   "language": "python",
   "name": "python2"
  },
  "language_info": {
   "codemirror_mode": {
    "name": "ipython",
    "version": 2
   },
   "file_extension": ".py",
   "mimetype": "text/x-python",
   "name": "python",
   "nbconvert_exporter": "python",
   "pygments_lexer": "ipython2",
   "version": "2.7.13"
  }
 },
 "nbformat": 4,
 "nbformat_minor": 2
}
